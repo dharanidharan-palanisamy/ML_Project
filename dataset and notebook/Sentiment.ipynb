{
  "cells": [
    {
      "cell_type": "code",
      "execution_count": null,
      "metadata": {
        "colab": {
          "base_uri": "https://localhost:8080/"
        },
        "id": "9dkv4cSTZ95N",
        "outputId": "f416c67c-9b9f-49ef-e5cd-7b705a282d76"
      },
      "outputs": [
        {
          "name": "stderr",
          "output_type": "stream",
          "text": [
            "[nltk_data] Downloading package stopwords to /root/nltk_data...\n",
            "[nltk_data]   Unzipping corpora/stopwords.zip.\n",
            "[nltk_data] Downloading package wordnet to /root/nltk_data...\n"
          ]
        }
      ],
      "source": [
        "import pandas as pd\n",
        "import numpy as np\n",
        "import re\n",
        "import nltk\n",
        "from sklearn.model_selection import train_test_split\n",
        "from sklearn.feature_extraction.text import TfidfVectorizer\n",
        "from sklearn.ensemble import RandomForestClassifier\n",
        "from sklearn.linear_model import LogisticRegression\n",
        "from sklearn.metrics import accuracy_score, classification_report, confusion_matrix\n",
        "import matplotlib.pyplot as plt\n",
        "import seaborn as sns\n",
        "\n",
        "\n",
        "nltk.download('stopwords')\n",
        "nltk.download('wordnet')\n",
        "\n",
        "\n",
        "sns.set(style='whitegrid')\n",
        "\n",
        "%matplotlib inline\n",
        "import warnings\n",
        "warnings.filterwarnings('ignore')"
      ]
    },
    {
      "cell_type": "code",
      "execution_count": null,
      "metadata": {
        "colab": {
          "base_uri": "https://localhost:8080/"
        },
        "id": "gwGQnngUdmRX",
        "outputId": "fd409304-269c-4b76-b4ec-34760ec69f83"
      },
      "outputs": [
        {
          "name": "stdout",
          "output_type": "stream",
          "text": [
            "Mounted at /content/drive\n"
          ]
        }
      ],
      "source": [
        "from google.colab import drive\n",
        "drive.mount('/content/drive')"
      ]
    },
    {
      "cell_type": "code",
      "execution_count": null,
      "metadata": {
        "id": "CiVUkd1haHSQ"
      },
      "outputs": [],
      "source": [
        "train = pd.read_csv('/content/drive/MyDrive/Colab Notebooks/Train.csv')\n",
        "test  =pd.read_csv('/content/drive/MyDrive/Colab Notebooks/Test (2).csv')"
      ]
    },
    {
      "cell_type": "code",
      "execution_count": null,
      "metadata": {
        "colab": {
          "base_uri": "https://localhost:8080/"
        },
        "id": "h9goyh2VbWTN",
        "outputId": "096c242e-a106-4248-be51-0a37974ee992"
      },
      "outputs": [
        {
          "name": "stdout",
          "output_type": "stream",
          "text": [
            "Training Dataset:\n",
            "   Id                                               Body Sentiment Type\n",
            "0   1  rule 2 no metes about polarizing political top...        neutral\n",
            "1   2                                                NaN        neutral\n",
            "2   3  no politics danger now i can make a propaganda...       negative\n",
            "3   4                       i am the senate gets stabbed        neutral\n",
            "4   5                                  is this a suicide        neutral\n",
            "\n",
            "Test Dataset:\n",
            "   Id                                               Body\n",
            "0   1  rule 2 no metes about polarizing political top...\n",
            "1   2                                                NaN\n",
            "2   3  no politics danger now i can make a propaganda...\n",
            "3   4                       i am the senate gets stabbed\n",
            "4   5                                  is this a suicide\n"
          ]
        }
      ],
      "source": [
        "print(\"Training Dataset:\")\n",
        "print(train.head())\n",
        "print(\"\\nTest Dataset:\")\n",
        "print(test.head())"
      ]
    },
    {
      "cell_type": "code",
      "execution_count": null,
      "metadata": {
        "colab": {
          "base_uri": "https://localhost:8080/",
          "height": 178
        },
        "id": "THHo1plHbZ1j",
        "outputId": "51011788-aadd-47fd-a30b-45f411973ac9"
      },
      "outputs": [
        {
          "data": {
            "text/html": [
              "<div>\n",
              "<style scoped>\n",
              "    .dataframe tbody tr th:only-of-type {\n",
              "        vertical-align: middle;\n",
              "    }\n",
              "\n",
              "    .dataframe tbody tr th {\n",
              "        vertical-align: top;\n",
              "    }\n",
              "\n",
              "    .dataframe thead th {\n",
              "        text-align: right;\n",
              "    }\n",
              "</style>\n",
              "<table border=\"1\" class=\"dataframe\">\n",
              "  <thead>\n",
              "    <tr style=\"text-align: right;\">\n",
              "      <th></th>\n",
              "      <th>0</th>\n",
              "    </tr>\n",
              "  </thead>\n",
              "  <tbody>\n",
              "    <tr>\n",
              "      <th>Id</th>\n",
              "      <td>0</td>\n",
              "    </tr>\n",
              "    <tr>\n",
              "      <th>Body</th>\n",
              "      <td>228</td>\n",
              "    </tr>\n",
              "    <tr>\n",
              "      <th>Sentiment Type</th>\n",
              "      <td>0</td>\n",
              "    </tr>\n",
              "  </tbody>\n",
              "</table>\n",
              "</div><br><label><b>dtype:</b> int64</label>"
            ],
            "text/plain": [
              "Id                  0\n",
              "Body              228\n",
              "Sentiment Type      0\n",
              "dtype: int64"
            ]
          },
          "execution_count": 7,
          "metadata": {},
          "output_type": "execute_result"
        }
      ],
      "source": [
        "train.isnull().sum()"
      ]
    },
    {
      "cell_type": "code",
      "execution_count": null,
      "metadata": {
        "colab": {
          "base_uri": "https://localhost:8080/",
          "height": 209
        },
        "id": "8hu3wqNubgOq",
        "outputId": "5e84251d-183f-4267-8285-39bec60cf0b1"
      },
      "outputs": [
        {
          "data": {
            "text/html": [
              "<div>\n",
              "<style scoped>\n",
              "    .dataframe tbody tr th:only-of-type {\n",
              "        vertical-align: middle;\n",
              "    }\n",
              "\n",
              "    .dataframe tbody tr th {\n",
              "        vertical-align: top;\n",
              "    }\n",
              "\n",
              "    .dataframe thead th {\n",
              "        text-align: right;\n",
              "    }\n",
              "</style>\n",
              "<table border=\"1\" class=\"dataframe\">\n",
              "  <thead>\n",
              "    <tr style=\"text-align: right;\">\n",
              "      <th></th>\n",
              "      <th>count</th>\n",
              "    </tr>\n",
              "    <tr>\n",
              "      <th>Sentiment Type</th>\n",
              "      <th></th>\n",
              "    </tr>\n",
              "  </thead>\n",
              "  <tbody>\n",
              "    <tr>\n",
              "      <th>neutral</th>\n",
              "      <td>1010</td>\n",
              "    </tr>\n",
              "    <tr>\n",
              "      <th>positive</th>\n",
              "      <td>632</td>\n",
              "    </tr>\n",
              "    <tr>\n",
              "      <th>negative</th>\n",
              "      <td>358</td>\n",
              "    </tr>\n",
              "  </tbody>\n",
              "</table>\n",
              "</div><br><label><b>dtype:</b> int64</label>"
            ],
            "text/plain": [
              "Sentiment Type\n",
              "neutral     1010\n",
              "positive     632\n",
              "negative     358\n",
              "Name: count, dtype: int64"
            ]
          },
          "execution_count": 8,
          "metadata": {},
          "output_type": "execute_result"
        }
      ],
      "source": [
        "train['Sentiment Type'].value_counts()"
      ]
    },
    {
      "cell_type": "code",
      "execution_count": null,
      "metadata": {
        "colab": {
          "base_uri": "https://localhost:8080/",
          "height": 419
        },
        "id": "u_bIMrzUbo9R",
        "outputId": "9cbabc41-884d-4173-f09a-dc073ff83b9d"
      },
      "outputs": [
        {
          "data": {
            "image/png": "[encoded data removed]",
            "text/plain": [
              "<Figure size 600x400 with 1 Axes>"
            ]
          },
          "metadata": {},
          "output_type": "display_data"
        }
      ],
      "source": [
        "plt.figure(figsize=(6, 4))\n",
        "sns.countplot(data=train, x='Sentiment Type', palette='viridis')\n",
        "plt.title('Sentiment Type Distribution')\n",
        "plt.xlabel('Sentiment Type')\n",
        "plt.ylabel('Count')\n",
        "plt.show()"
      ]
    },
    {
      "cell_type": "code",
      "execution_count": null,
      "metadata": {
        "id": "FSJqZVYtbrM8"
      },
      "outputs": [],
      "source": [
        "train= train.dropna()\n",
        "test=test.dropna()\n",
        "train=train.dropna(subset=['Body'])\n",
        "test=test.dropna(subset=['Body'])"
      ]
    },
    {
      "cell_type": "code",
      "execution_count": null,
      "metadata": {
        "colab": {
          "base_uri": "https://localhost:8080/"
        },
        "id": "y_x0fr9AbwYo",
        "outputId": "40a8b72f-35fe-470f-e485-a9349cbba9d3"
      },
      "outputs": [
        {
          "name": "stderr",
          "output_type": "stream",
          "text": [
            "[nltk_data] Downloading package wordnet to /usr/share/nltk_data...\n"
          ]
        },
        {
          "name": "stdout",
          "output_type": "stream",
          "text": [
            "\n",
            "Cleaned Text in Training Data:\n",
            "0    rule mete polarizing political topic vulnerabl...\n",
            "2    politics danger make propaganda meme telling p...\n",
            "3                                   senate get stabbed\n",
            "4                                              suicide\n",
            "5                                              removed\n",
            "Name: Body, dtype: object\n"
          ]
        }
      ],
      "source": [
        "\n",
        "import nltk\n",
        "nltk.data.path.append('/usr/share/nltk_data')\n",
        "nltk.download('wordnet', download_dir='/usr/share/nltk_data')\n",
        "\n",
        "\n",
        "from nltk.corpus import stopwords\n",
        "from nltk.stem import WordNetLemmatizer\n",
        "\n",
        "stop_words = set(stopwords.words('english'))\n",
        "lemmatizer = WordNetLemmatizer()\n",
        "\n",
        "def clean_text(text):\n",
        "    if isinstance(text, str):\n",
        "        text = text.lower()\n",
        "        text = re.sub(r'<[^>]*>', '', text)\n",
        "        text = re.sub(r'[^a-zA-Z\\s]', '', text)\n",
        "        text = ' '.join([lemmatizer.lemmatize(word) for word in text.split() if word not in stop_words])\n",
        "    else:\n",
        "        text = ''\n",
        "    return text\n",
        "\n",
        "\n",
        "train['Body'] = train['Body'].apply(clean_text)\n",
        "test['Body'] =test['Body'].apply(clean_text)\n",
        "\n",
        "\n",
        "print(\"\\nCleaned Text in Training Data:\")\n",
        "print(train['Body'].head())\n",
        "\n"
      ]
    },
    {
      "cell_type": "code",
      "execution_count": null,
      "metadata": {
        "colab": {
          "base_uri": "https://localhost:8080/"
        },
        "id": "WlacBq7ib88y",
        "outputId": "d192dceb-9dad-4fbe-ce9b-ef72e707aff0"
      },
      "outputs": [
        {
          "name": "stdout",
          "output_type": "stream",
          "text": [
            "\n",
            "TF-IDF feature matrix shape for training data: (1772, 5000)\n",
            "TF-IDF feature matrix shape for test data: (1772, 5000)\n"
          ]
        }
      ],
      "source": [
        "tfidf_vectorizer = TfidfVectorizer(max_features=5000, ngram_range=(1, 2))\n",
        "X_train_tfidf = tfidf_vectorizer.fit_transform(train['Body'])\n",
        "X_test_tfidf = tfidf_vectorizer.transform(test['Body'])\n",
        "\n",
        "\n",
        "print(\"\\nTF-IDF feature matrix shape for training data:\", X_train_tfidf.shape)\n",
        "print(\"TF-IDF feature matrix shape for test data:\", X_test_tfidf.shape)"
      ]
    },
    {
      "cell_type": "code",
      "execution_count": null,
      "metadata": {
        "id": "Uebgd3jycApq"
      },
      "outputs": [],
      "source": [
        "\n",
        "y_train = train['Sentiment Type']\n",
        "\n",
        "\n",
        "model = LogisticRegression(max_iter=1000, random_state=42)\n",
        "model.fit(X_train_tfidf, y_train)\n",
        "\n",
        "\n",
        "y_train_pred = model.predict(X_train_tfidf)"
      ]
    },
    {
      "cell_type": "code",
      "execution_count": null,
      "metadata": {
        "colab": {
          "base_uri": "https://localhost:8080/"
        },
        "id": "5FZXnYjhcEOr",
        "outputId": "708e0f60-e555-442e-f3ce-6ee358059598"
      },
      "outputs": [
        {
          "name": "stdout",
          "output_type": "stream",
          "text": [
            "\n",
            "Training Accuracy: 0.9153498871331829\n",
            "\n",
            "Classification Report on Training Data:\n",
            "              precision    recall  f1-score   support\n",
            "\n",
            "    negative       0.99      0.69      0.81       358\n",
            "     neutral       0.87      0.99      0.93       782\n",
            "    positive       0.95      0.95      0.95       632\n",
            "\n",
            "    accuracy                           0.92      1772\n",
            "   macro avg       0.94      0.88      0.90      1772\n",
            "weighted avg       0.92      0.92      0.91      1772\n",
            "\n"
          ]
        }
      ],
      "source": [
        "\n",
        "print(\"\\nTraining Accuracy:\", accuracy_score(y_train, y_train_pred))\n",
        "print(\"\\nClassification Report on Training Data:\")\n",
        "print(classification_report(y_train, y_train_pred))"
      ]
    },
    {
      "cell_type": "code",
      "execution_count": null,
      "metadata": {
        "colab": {
          "base_uri": "https://localhost:8080/",
          "height": 727
        },
        "id": "SKqMqb4ocI2b",
        "outputId": "77185ea5-49ee-418c-c633-b0b522c499e3"
      },
      "outputs": [
        {
          "data": {
            "image/png": "[encoded data removed]",
            "text/plain": [
              "<Figure size 1000x800 with 1 Axes>"
            ]
          },
          "metadata": {},
          "output_type": "display_data"
        }
      ],
      "source": [
        "\n",
        "feature_names = tfidf_vectorizer.get_feature_names_out()\n",
        "coefficients = model.coef_[0]\n",
        "\n",
        "\n",
        "feature_importance = pd.DataFrame({\n",
        "    'Feature': feature_names,\n",
        "    'Importance': np.abs(coefficients)\n",
        "})\n",
        "\n",
        "feature_importance = feature_importance.sort_values(by='Importance', ascending=False)\n",
        "top_features = feature_importance.head(20)\n",
        "plt.figure(figsize=(10, 8))\n",
        "plt.barh(top_features['Feature'], top_features['Importance'], color='skyblue')\n",
        "plt.xlabel('Importance')\n",
        "plt.title('Top 20 Features by Importance')\n",
        "plt.gca().invert_yaxis()\n",
        "plt.show()\n"
      ]
    },
    {
      "cell_type": "code",
      "execution_count": null,
      "metadata": {
        "id": "0_turjkJcRL-"
      },
      "outputs": [],
      "source": [
        "y_test_pred = model.predict(X_test_tfidf)\n",
        "\n",
        "\n",
        "test_results = test.copy()\n",
        "test_results['Sentiment Type'] = y_test_pred\n",
        "test_results[['Id', 'Body', 'Sentiment Type']].to_csv('test_predictions.csv', index=False)"
      ]
    },
    {
      "cell_type": "code",
      "execution_count": null,
      "metadata": {
        "colab": {
          "base_uri": "https://localhost:8080/"
        },
        "id": "n9d_uKficUVK",
        "outputId": "138331e8-1e7d-410c-9da3-25e2a512b7e1"
      },
      "outputs": [
        {
          "data": {
            "text/plain": [
              "['tfidf_vectorizer.pkl']"
            ]
          },
          "execution_count": 17,
          "metadata": {},
          "output_type": "execute_result"
        }
      ],
      "source": [
        "import joblib\n",
        "joblib.dump(model, 'sentiment_model.pkl')\n",
        "joblib.dump(tfidf_vectorizer, 'tfidf_vectorizer.pkl')"
      ]
    },
    {
      "cell_type": "code",
      "execution_count": null,
      "metadata": {
        "id": "JQYQuMeTcXSR"
      },
      "outputs": [],
      "source": [
        "import pickle\n",
        "filename = 'diabetes_model.sav'\n",
        "pickle.dump(model, open(filename, 'wb'))"
      ]
    },
    {
      "cell_type": "code",
      "execution_count": null,
      "metadata": {
        "id": "sTYm4Qs1exu-"
      },
      "outputs": [],
      "source": [
        "loaded_model = pickle.load(open('diabetes_model.sav', 'rb'))"
      ]
    },
    {
      "cell_type": "code",
      "execution_count": null,
      "metadata": {
        "colab": {
          "base_uri": "https://localhost:8080/"
        },
        "id": "d8aycHLMe56y",
        "outputId": "7efe62cd-4946-4e16-815d-5dc9c9da45fc"
      },
      "outputs": [
        {
          "name": "stdout",
          "output_type": "stream",
          "text": [
            "Prediction: positive\n"
          ]
        }
      ],
      "source": [
        "\n",
        "# Load the model and vectorizer\n",
        "loaded_model = joblib.load(\"sentiment_model.pkl\")\n",
        "vectorizer = joblib.load(\"tfidf_vectorizer.pkl\")\n",
        "\n",
        "# Example input data\n",
        "input_data = \"the ironic part is when his successor tucked them even harder than uncle julius\"\n",
        "\n",
        "# Preprocess the input data\n",
        "processed_input = clean_text(input_data)\n",
        "\n",
        "# Transform input using the vectorizer\n",
        "input_vectorized = vectorizer.transform([processed_input])\n",
        "\n",
        "# Predict sentiment\n",
        "prediction = loaded_model.predict(input_vectorized)\n",
        "\n",
        "print(f\"Prediction: {prediction[0]}\")\n"
      ]
    },
    {
      "cell_type": "code",
      "execution_count": null,
      "metadata": {
        "id": "I6VUzK2IXZY2"
      },
      "outputs": [],
      "source": []
    }
  ],
  "metadata": {
    "colab": {
      "provenance": []
    },
    "kernelspec": {
      "display_name": "Python 3",
      "name": "python3"
    },
    "language_info": {
      "name": "python"
    }
  },
  "nbformat": 4,
  "nbformat_minor": 0
}
